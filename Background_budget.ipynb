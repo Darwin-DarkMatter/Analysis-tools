{
 "cells": [
  {
   "cell_type": "code",
   "execution_count": 1,
   "metadata": {},
   "outputs": [
    {
     "data": {
      "text/plain": [
       "<matplotlib.figure.Figure at 0x7fc126eec198>"
      ]
     },
     "metadata": {},
     "output_type": "display_data"
    }
   ],
   "source": [
    "## Imports\n",
    "import matplotlib\n",
    "import matplotlib.pyplot as plt\n",
    "\n",
    "import numpy as np\n",
    "\n",
    "%matplotlib inline \n",
    "matplotlib.rc('font', size=18)                   # Use big fonts...\n",
    "plt.rcParams['figure.figsize'] = (16, 9.)    # ... and big plots\n",
    "plt.set_cmap('viridis')"
   ]
  },
  {
   "cell_type": "code",
   "execution_count": 11,
   "metadata": {},
   "outputs": [
    {
     "data": {
      "image/png": "[encoded data removed]",
      "text/plain": [
       "<matplotlib.figure.Figure at 0x7fc0ec002cf8>"
      ]
     },
     "metadata": {},
     "output_type": "display_data"
    }
   ],
   "source": [
    "Backgrounds = ['All background ', 'Material', '2nbb', '$^{137}$Xe', '$^{222}$Ra','$^{8}$B']\n",
    "y_pos = np.arange(len(Backgrounds))\n",
    "\n",
    "total_material = 0.0013*6\n",
    "xe137 = 0.0623*6\n",
    "xe136 = 0.0001*6\n",
    "b = 0.015*6\n",
    "ra = 0.023*6\n",
    "\n",
    "tot_tot = total_material + xe137 + xe136 + b + ra\n",
    "\n",
    "backgroundTot = [ tot_tot , 0, 0, 0, 0, 0 ]\n",
    "backgroundMat= [0 , total_material,0, 0, 0, 0 ]\n",
    "backgroundXe136 = [0, 0, xe136, 0, 0, 0 ]\n",
    "backgroundXe137 = [ 0 , 0, 0, xe137, 0, 0 ]\n",
    "backgroundRa22 = [ 0 , 0, 0, 0, ra, 0 ]\n",
    "backgroundB8 = [ 0 , 0, 0, 0, 0, b ]\n",
    "\n",
    "clr = ('mediumblue', 'forestgreen', 'gold', 'red', 'purple', \"blue\")\n",
    "h = plt.barh(y_pos, backgroundTot, align='center', alpha= 0.5,label='$^{238}U$ chain', color='mediumblue')\n",
    "h = plt.barh(y_pos, backgroundMat, align='center', alpha= 0.5,label='$^{238}U$ chain', color='purple')\n",
    "h = plt.barh(y_pos, backgroundXe136, align='center', alpha= 0.5,label='$^{238}U$ chain', color='gold')\n",
    "h = plt.barh(y_pos, backgroundRa22, align='center', alpha= 0.5,label='$^{238}U$ chain', color='royalblue')\n",
    "h = plt.barh(y_pos, backgroundB8, align='center', alpha= 0.5,label='$^{238}U$ chain', color='seagreen')\n",
    "h = plt.barh(y_pos, backgroundXe137, align='center', alpha= 0.5,label='$^{238}U$ chain', color='blue')\n",
    "\n",
    "plt.yticks(y_pos, Backgrounds)\n",
    "plt.xlabel('Background in ROI [events $\\cdot t^{-1} \\cdot y^{-1}$]')\n",
    "plt.xscale('log')\n",
    "plt.xlim(5e-5,8e-1)\n",
    "\n",
    "#plt.legend(loc=\"upper right\")\n",
    "\n",
    "plt.show()"
   ]
  },
  {
   "cell_type": "code",
   "execution_count": null,
   "metadata": {},
   "outputs": [],
   "source": []
  }
 ],
 "metadata": {
  "kernelspec": {
   "display_name": "Python 3",
   "language": "python",
   "name": "python3"
  },
  "language_info": {
   "codemirror_mode": {
    "name": "ipython",
    "version": 3
   },
   "file_extension": ".py",
   "mimetype": "text/x-python",
   "name": "python",
   "nbconvert_exporter": "python",
   "pygments_lexer": "ipython3",
   "version": "3.6.5"
  }
 },
 "nbformat": 4,
 "nbformat_minor": 2
}
